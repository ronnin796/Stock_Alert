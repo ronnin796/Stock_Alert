{
 "cells": [
  {
   "cell_type": "code",
   "execution_count": 5,
   "id": "6a449aaf",
   "metadata": {},
   "outputs": [
    {
     "name": "stdout",
     "output_type": "stream",
     "text": [
      "   Sub-Category     Sales  Order Date\n",
      "7        Phones   907.152  09/06/2015\n",
      "11       Phones   911.424  09/06/2015\n",
      "19       Phones   213.480  27/08/2015\n",
      "26  Accessories    90.570  16/01/2017\n",
      "35       Phones  1097.544  08/12/2017\n"
     ]
    }
   ],
   "source": [
    "import pandas as pd\n",
    "data = pd.read_csv('superstore_sales.csv')\n",
    "tech_data = data[data['Category']=='Technology']\n",
    "print(tech_data[['Sub-Category','Sales','Order Date']].head())"
   ]
  },
  {
   "cell_type": "code",
   "execution_count": null,
   "id": "99dd08b5",
   "metadata": {},
   "outputs": [],
   "source": [
    "import pandas as pd\n",
    "data = pd.read_excel('superstore_sales.xls')\n",
    "furn_data = data.loc[data['Category'] == 'Furniture'].copy()\n",
    "furn_data['Order Date'] = pd.to_datetime(furn_data['Order Date'])\n",
    "weekly_data = furn_data.groupby(['Sub-Category', furn_data['Order Date'].dt.to_period('W')])['Quantity'].sum().reset_index()\n",
    "weekly_data['Week'] = weekly_data.groupby('Sub-Category').cumcount()\n",
    "weekly_data.to_csv('data/weekly_data.csv', index=False)"
   ]
  },
  {
   "cell_type": "code",
   "execution_count": 1,
   "id": "70b01ea8",
   "metadata": {},
   "outputs": [
    {
     "ename": "NameError",
     "evalue": "name 'weekly_data' is not defined",
     "output_type": "error",
     "traceback": [
      "\u001b[31m---------------------------------------------------------------------------\u001b[39m",
      "\u001b[31mNameError\u001b[39m                                 Traceback (most recent call last)",
      "\u001b[36mCell\u001b[39m\u001b[36m \u001b[39m\u001b[32mIn[1]\u001b[39m\u001b[32m, line 6\u001b[39m\n\u001b[32m      3\u001b[39m \u001b[38;5;28;01mfrom\u001b[39;00m\u001b[38;5;250m \u001b[39m\u001b[34;01msklearn\u001b[39;00m\u001b[34;01m.\u001b[39;00m\u001b[34;01mmetrics\u001b[39;00m\u001b[38;5;250m \u001b[39m\u001b[38;5;28;01mimport\u001b[39;00m mean_squared_error\n\u001b[32m      4\u001b[39m \u001b[38;5;28;01mimport\u001b[39;00m\u001b[38;5;250m \u001b[39m\u001b[34;01mjoblib\u001b[39;00m\n\u001b[32m----> \u001b[39m\u001b[32m6\u001b[39m product_data = \u001b[43mweekly_data\u001b[49m[weekly_data[\u001b[33m'\u001b[39m\u001b[33mSub-Category\u001b[39m\u001b[33m'\u001b[39m] == \u001b[33m'\u001b[39m\u001b[33mBookcases\u001b[39m\u001b[33m'\u001b[39m]\n\u001b[32m      7\u001b[39m X = product_data[[\u001b[33m'\u001b[39m\u001b[33mWeek\u001b[39m\u001b[33m'\u001b[39m]]\n\u001b[32m      8\u001b[39m y = product_data[\u001b[33m'\u001b[39m\u001b[33mQuantity\u001b[39m\u001b[33m'\u001b[39m]\n",
      "\u001b[31mNameError\u001b[39m: name 'weekly_data' is not defined"
     ]
    }
   ],
   "source": [
    "from sklearn.linear_model import LinearRegression\n",
    "from sklearn.model_selection import train_test_split\n",
    "from sklearn.metrics import mean_squared_error\n",
    "import joblib\n",
    "\n",
    "product_data = weekly_data[weekly_data['Sub-Category'] == 'Bookcases']\n",
    "X = product_data[['Week']]\n",
    "y = product_data['Quantity']\n",
    "X_train, X_test, y_train, y_test = train_test_split(X, y, test_size=0.2, random_state=42)\n",
    "\n",
    "model = LinearRegression()\n",
    "model.fit(X_train, y_train)\n",
    "print(f\"MSE: {mean_squared_error(y_test, model.predict(X_test))}\")\n",
    "joblib.dump(model, 'stock_model.pkl')"
   ]
  }
 ],
 "metadata": {
  "kernelspec": {
   "display_name": "INVENTORY_ALERT-F1lCCaUA",
   "language": "python",
   "name": "python3"
  },
  "language_info": {
   "codemirror_mode": {
    "name": "ipython",
    "version": 3
   },
   "file_extension": ".py",
   "mimetype": "text/x-python",
   "name": "python",
   "nbconvert_exporter": "python",
   "pygments_lexer": "ipython3",
   "version": "3.13.2"
  }
 },
 "nbformat": 4,
 "nbformat_minor": 5
}
